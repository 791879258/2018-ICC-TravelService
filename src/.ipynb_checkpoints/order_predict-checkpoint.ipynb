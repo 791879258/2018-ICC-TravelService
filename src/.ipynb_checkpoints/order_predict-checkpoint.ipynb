{
 "cells": [
  {
   "cell_type": "code",
   "execution_count": 1,
   "metadata": {},
   "outputs": [
    {
     "name": "stderr",
     "output_type": "stream",
     "text": [
      "C:\\ProgramData\\Anaconda2\\lib\\site-packages\\sklearn\\cross_validation.py:44: DeprecationWarning: This module was deprecated in version 0.18 in favor of the model_selection module into which all the refactored classes and functions are moved. Also note that the interface of the new CV iterators are different from that of this module. This module will be removed in 0.20.\n",
      "  \"This module will be removed in 0.20.\", DeprecationWarning)\n"
     ]
    }
   ],
   "source": [
    "from __future__ import division\n",
    "import numpy as np\n",
    "import pandas as pd\n",
    "from sklearn import preprocessing\n",
    "import xgboost as xgb\n",
    "import time\n",
    "import datetime\n",
    "import warnings\n",
    "warnings.filterwarnings('ignore')"
   ]
  },
  {
   "cell_type": "code",
   "execution_count": 2,
   "metadata": {
    "collapsed": true
   },
   "outputs": [],
   "source": [
    "action_tr = pd.read_csv('../data/input/train/action_train.csv')  # 用户行为数据\n",
    "order_future_tr = pd.read_csv('../data/input/train/orderFuture_train.csv')  # 待预测数据\n",
    "order_history_tr = pd.read_csv('../data/input/train/orderHistory_train.csv')  # 用户历史订单数据\n",
    "user_comment_tr = pd.read_csv('../data/input/train/userComment_train.csv')  # 用户评论数据\n",
    "user_profile_tr = pd.read_csv('../data/input/train/userProfile_train.csv')  # 用户个人信息\n",
    "\n",
    "action_te = pd.read_csv('../data/input/test/action_test.csv')\n",
    "order_future_te = pd.read_csv('../data/input/test/orderFuture_test.csv')\n",
    "order_history_te = pd.read_csv('../data/input/test/orderHistory_test.csv')\n",
    "user_comment_te = pd.read_csv('../data/input/test/userComment_test.csv')\n",
    "user_profile_te = pd.read_csv('../data/input/test/userProfile_test.csv')"
   ]
  },
  {
   "cell_type": "code",
   "execution_count": 3,
   "metadata": {
    "scrolled": true
   },
   "outputs": [],
   "source": [
    "action = pd.concat([action_tr, action_te], axis=0).reset_index(drop=True)\n",
    "order_history = pd.concat([order_history_tr, order_history_te], axis=0).reset_index(drop=True)\n",
    "user_comment = pd.concat([user_comment_tr, user_comment_te], axis=0).reset_index(drop=True)\n",
    "user_profile = pd.concat([user_profile_tr, user_profile_te], axis=0).reset_index(drop=True)"
   ]
  },
  {
   "cell_type": "code",
   "execution_count": 4,
   "metadata": {
    "collapsed": true
   },
   "outputs": [],
   "source": [
    "def translate_date(date):\n",
    "    year = int(date[:4])\n",
    "    month = int(date[-2:])\n",
    "    return (year - 2010) * 12 + month"
   ]
  },
  {
   "cell_type": "code",
   "execution_count": 5,
   "metadata": {
    "collapsed": true
   },
   "outputs": [],
   "source": [
    "def cal_time_gap(t):\n",
    "    s = '2018-01-01'\n",
    "    return time.mktime(datetime.datetime.strptime(s, \"%Y-%m-%d\").timetuple()) - t"
   ]
  },
  {
   "cell_type": "code",
   "execution_count": 6,
   "metadata": {
    "collapsed": true
   },
   "outputs": [],
   "source": [
    "def get_interaction_feature(df, feature_A, feature_B):\n",
    "    feature_A_list = sorted(df[feature_A].unique())\n",
    "    feature_B_list = sorted(df[feature_B].unique())\n",
    "    count = 0\n",
    "    mydict = {}\n",
    "    for i in feature_A_list:\n",
    "        mydict[int(i)] = {}\n",
    "        for j in feature_B_list:\n",
    "            mydict[int(i)][int(j)] = count\n",
    "            count += 1\n",
    "    return df.apply(lambda x: mydict[int(x[feature_A])][int(x[feature_B])], axis=1)"
   ]
  },
  {
   "cell_type": "code",
   "execution_count": 7,
   "metadata": {
    "collapsed": true
   },
   "outputs": [],
   "source": [
    "def print_label_encoder_mapping(le):\n",
    "    le_name_mapping = dict(zip(le.classes_, le.transform(le.classes_)))\n",
    "    for k, v in le_name_mapping.items():\n",
    "        print str(k) + ': ' + str(v)"
   ]
  },
  {
   "cell_type": "code",
   "execution_count": 8,
   "metadata": {
    "collapsed": true
   },
   "outputs": [],
   "source": [
    "def get_user_profile_feature(df):\n",
    "    df = df.copy()\n",
    "\n",
    "    mydf = df[['userid']]\n",
    "    le = preprocessing.LabelEncoder()\n",
    "    mydf['gender'] = le.fit_transform(df['gender'])\n",
    "\n",
    "    mydf['province'] = le.fit_transform(df['province'])\n",
    "\n",
    "    mydf['age'] = le.fit_transform(df['age'])\n",
    "\n",
    "    return mydf"
   ]
  },
  {
   "cell_type": "code",
   "execution_count": 9,
   "metadata": {
    "collapsed": true
   },
   "outputs": [],
   "source": [
    "def get_action_feature(df):\n",
    "    df = df.copy()\n",
    "\n",
    "    df = df.sort_values(by=['userid', 'actionTime'])\n",
    "    \n",
    "    mydf = df.groupby('userid').size().reset_index()\n",
    "    mydf.columns = ['userid', 'action_num']\n",
    "\n",
    "    act_type_last = mydf[['userid']]\n",
    "    for i in [1, 2, 3, 4]:\n",
    "        tmp = df.groupby('userid').nth(-i)['actionType'].reset_index()\n",
    "        tmp.columns = ['userid', 'act_type_last' + str(i)]\n",
    "        act_type_last = pd.merge(act_type_last, tmp, how='left', on='userid')\n",
    "\n",
    "    act_type_first = mydf[['userid']]\n",
    "    for i in [1, 2]:\n",
    "        tmp = df.groupby('userid').nth(i)['actionType'].reset_index()\n",
    "        tmp.columns = ['userid', 'act_type_first' + str(i)]\n",
    "        act_type_first = pd.merge(act_type_first, tmp, how='left', on='userid')\n",
    "\n",
    "    time_gap_stat = cal_time_gap(df['actionTime']).groupby(df['userid']).agg([np.mean, np.std, min, max, np.ptp]).reset_index()\n",
    "    time_gap_stat.columns = ['userid', 'action_time_gap_mean', 'action_time_gap_std', 'action_time_gap_min', 'action_time_gap_max', 'action_time_gap_ptp']\n",
    "\n",
    "    time_gap_last = mydf[['userid']]\n",
    "    for i in [1, 2, 3, 4]:\n",
    "        tmp = cal_time_gap(df['actionTime']).groupby(df['userid']).nth(-i).reset_index()\n",
    "        tmp.columns = ['userid', 'time_gap_last' + str(i)]\n",
    "        time_gap_last = pd.merge(time_gap_last, tmp, how='left', on='userid')\n",
    "\n",
    "    time_gap_first = mydf[['userid']]\n",
    "    for i in [1, 2]:\n",
    "        tmp = cal_time_gap(df['actionTime']).groupby(df['userid']).nth(i).reset_index()\n",
    "        tmp.columns = ['userid', 'time_gap_first' + str(i)]\n",
    "        time_gap_first = pd.merge(time_gap_first, tmp, how='left', on='userid')\n",
    "    \n",
    "    time_gap_last123 = cal_time_gap(df['actionTime']).groupby(df['userid']).nth([-1, -2, -3]).reset_index()\n",
    "    time_gap_last123_stat = time_gap_last123.groupby('userid')['actionTime'].agg([np.mean, np.std, min, max, np.ptp]).reset_index()\n",
    "    time_gap_last123_stat.columns = ['userid', 'time_gap_last123_mean', 'time_gap_last123_std', 'time_gap_last123_min', 'time_gap_last123_max', 'time_gap_last123_ptp']\n",
    "\n",
    "    df['dist'] = df.groupby('userid')['actionTime'].rank(ascending=False)\n",
    "    dist = mydf[['userid']]\n",
    "    for i in range(1, 10):\n",
    "        tmp = df[df['actionType'] == i].groupby('userid')['dist'].nth(-1).reset_index()\n",
    "        tmp.columns = ['userid', 'dist' + str(i)]\n",
    "        dist = pd.merge(dist, tmp, how='left', on='userid')\n",
    "\n",
    "    time_gap_all_type = mydf[['userid']]\n",
    "    for i in range(1, 10):\n",
    "        tmp = df[df['actionType'] == i].groupby('userid')['actionTime'].nth(-1).reset_index()\n",
    "        tmp['actionTime'] = cal_time_gap(tmp['actionTime'])\n",
    "        tmp.columns = ['userid', 'time_gap' + str(i)]\n",
    "        time_gap_all_type = pd.merge(time_gap_all_type, tmp, how='left', on='userid')\n",
    "\n",
    "    # 构建时间间隔序列 time_gap\n",
    "    sub = df.loc[:(len(df) - 2), 'actionTime']  # 构建减数 Serise\n",
    "    sub.index = sub.index + 1  # 索引加一\n",
    "    df['time_gap'] = df.loc[1:, 'actionTime'] - sub  # 计算时间间隔\n",
    "    tmp = df.groupby('userid').nth(0).reset_index()  # 找到用户的第一个 action\n",
    "    tmp['time_gap'] = 0  # 把所有用户的第一个 action 的 time_gap 赋 0\n",
    "    df = pd.merge(df, tmp, how='left', on=['userid', 'actionTime', 'actionType', 'dist']).fillna(1)  # merge 起来后，空值填充 1\n",
    "    df['time_gap'] = df['time_gap_x'] * df['time_gap_y']  # 两列相乘，将所有用户的第一个 action 的 time_gap 赋 0\n",
    "    df = df.drop(['time_gap_x', 'time_gap_y'], axis=1)  # 移除多余的列\n",
    "    df = df.replace(0, np.nan)  # 0 -> NaN\n",
    "\n",
    "    time_gap_seq_stat = mydf[['userid']]\n",
    "    for i in range(1, 10):\n",
    "        lo = df[df['actionType'] == i].reset_index().groupby('userid').nth(-1).reset_index()[['userid', 'index']]\n",
    "        hi = df.reset_index().groupby('userid').nth(-1).reset_index()[['userid', 'index']]\n",
    "        lo_hi = pd.merge(lo, hi, how='left', on='userid')\n",
    "        lo_hi.columns = ['userid', 'lo_ind', 'hi_ind']\n",
    "        index_list = []\n",
    "        for index, row in lo_hi.iterrows():\n",
    "            index_list += range(row['lo_ind'], row['hi_ind'] + 1)\n",
    "        tmp = df.iloc[index_list,:]\n",
    "        tmp = tmp.groupby('userid')['time_gap'].agg([np.mean, np.std, min, max, np.ptp]).reset_index()\n",
    "        tmp.columns = ['userid', 'time_gap_seq' + str(i) + '_mean', 'time_gap_seq' + str(i) + '_std', 'time_gap_seq' + str(i) + '_min', 'time_gap_seq' + str(i) + '_max', 'time_gap_seq' + str(i) + '_ptp']\n",
    "        time_gap_seq_stat = pd.merge(time_gap_seq_stat, tmp, how='left', on='userid')\n",
    "\n",
    "    for i in range(1, 10):\n",
    "        time_gap_seq_stat['time_gap_seq' + str(i) + '_mean*std'] = time_gap_seq_stat['time_gap_seq' + str(i) + '_mean'] * time_gap_seq_stat['time_gap_seq' + str(i) + '_std']\n",
    "\n",
    "    type_num_rate = mydf.copy()\n",
    "    for i in range(1, 10):\n",
    "        tmp = df[df['actionType'] == i].groupby('userid').size().reset_index()\n",
    "        tmp.columns = ['userid', 'type' + str(i) + '_num']\n",
    "        type_num_rate = pd.merge(type_num_rate, tmp, how='left', on='userid')\n",
    "        type_num_rate['type' + str(i) + '_rate'] = type_num_rate['type' + str(i) + '_num'] / type_num_rate['action_num']\n",
    "    type_num_rate = type_num_rate.drop('action_num', axis=1)\n",
    "    \n",
    "    # 构建时间间隔的间隔序列 time_gap_gap\n",
    "    sub = df.loc[:(len(df) - 2), 'time_gap']  # 构建减数 Serise\n",
    "    sub.index = sub.index + 1  # 索引加一\n",
    "    df['time_gap_gap'] = df.loc[1:, 'time_gap'] - sub  # 计算时间间隔的间隔\n",
    "    tmp = df.groupby('userid').nth([0, 1]).reset_index()  # 找到用户的第一和二个 action\n",
    "    tmp['time_gap_gap'] = 0  # 把所有用户的第一和二个 action 的 time_gap_gap 赋 0\n",
    "    df = pd.merge(df, tmp, how='left', on=['userid', 'actionTime', 'actionType', 'dist', 'time_gap']).fillna(1)  # merge 起来后，空值填充 1\n",
    "    df['time_gap_gap_y'] = df['time_gap_gap_y'].replace(0, np.nan)  # 0 替换成 NaN\n",
    "    df['time_gap_gap'] = df['time_gap_gap_x'] * df['time_gap_gap_y']  # 两列相乘，将所有用户的第一和二个 action 的 time_gap 赋 NaN\n",
    "    df = df.drop(['time_gap_gap_x', 'time_gap_gap_y'], axis=1)  # 移除多余的列\n",
    "\n",
    "    time_gap_gap_seq_stat = mydf[['userid']]\n",
    "    for i in range(1, 10):\n",
    "        lo = df[df['actionType'] == i].reset_index().groupby('userid').nth(-1).reset_index()[['userid', 'index']]\n",
    "        hi = df.reset_index().groupby('userid').nth(-1).reset_index()[['userid', 'index']]\n",
    "        lo_hi = pd.merge(lo, hi, how='left', on='userid')\n",
    "        lo_hi.columns = ['userid', 'lo_ind', 'hi_ind']\n",
    "        index_list = []\n",
    "        for index, row in lo_hi.iterrows():\n",
    "            index_list += range(row['lo_ind'], row['hi_ind'] + 1)\n",
    "        tmp = df.iloc[index_list,:]\n",
    "        tmp = tmp.groupby('userid')['time_gap_gap'].agg([np.mean, np.std, min, max, np.ptp]).reset_index()\n",
    "        tmp.columns = ['userid', 'time_gap_gap_seq' + str(i) + '_mean', 'time_gap_gap_seq' + str(i) + '_std', 'time_gap_gap_seq' + str(i) + '_min', 'time_gap_gap_seq' + str(i) + '_max', 'time_gap_gap_seq' + str(i) + '_ptp']\n",
    "        time_gap_gap_seq_stat = pd.merge(time_gap_gap_seq_stat, tmp, how='left', on='userid')\n",
    "    \n",
    "    time_stat = df.groupby('userid')['actionTime'].agg([min, max, np.ptp, np.mean, np.std]).reset_index()\n",
    "    time_stat.columns = ['userid', 'time_stat_min', 'time_stat_max', 'time_stat_ptp', 'time_stat_mean', 'time_stat_std']\n",
    "    \n",
    "    time_stat_gb_uid_type = df.groupby(['userid', 'actionType'])['actionTime'].agg([min, max, np.ptp, np.mean, np.std]).unstack().reset_index()\n",
    "    columns_name = ['time_' + i + '_' + str(j) for i in ['min', 'max', 'ptp', 'mean', 'std'] for j in range(1, 10)]\n",
    "    columns_name.insert(0, 'userid')\n",
    "    time_stat_gb_uid_type.columns = columns_name\n",
    "\n",
    "    mydf = pd.merge(mydf, act_type_last, how='left', on='userid')\n",
    "    mydf = pd.merge(mydf, act_type_first, how='left', on='userid')\n",
    "    mydf = pd.merge(mydf, time_gap_stat, how='left', on='userid')\n",
    "    mydf = pd.merge(mydf, time_gap_last, how='left', on='userid')\n",
    "    mydf = pd.merge(mydf, time_gap_first, how='left', on='userid')\n",
    "    mydf = pd.merge(mydf, time_gap_last123_stat, how='left', on='userid')\n",
    "    mydf = pd.merge(mydf, dist, how='left', on='userid')\n",
    "    mydf = pd.merge(mydf, time_gap_all_type, how='left', on='userid')\n",
    "    mydf = pd.merge(mydf, time_gap_seq_stat, how='left', on='userid')\n",
    "    mydf = pd.merge(mydf, type_num_rate, how='left', on='userid')\n",
    "    mydf = pd.merge(mydf, time_gap_gap_seq_stat, how='left', on='userid')\n",
    "    mydf = pd.merge(mydf, time_stat, how='left', on='userid')\n",
    "    mydf = pd.merge(mydf, time_stat_gb_uid_type, how='left', on='userid')\n",
    "\n",
    "    return mydf"
   ]
  },
  {
   "cell_type": "code",
   "execution_count": 10,
   "metadata": {
    "collapsed": true
   },
   "outputs": [],
   "source": [
    "def get_order_history_feature(df):\n",
    "    df = df.copy()\n",
    "    \n",
    "    df = df.sort_values(by=['userid', 'orderTime'])\n",
    "    le = preprocessing.LabelEncoder()\n",
    "    df['city'] = le.fit_transform(df['city'])\n",
    "    df['country'] = le.fit_transform(df['country'])\n",
    "    df['continent'] = le.fit_transform(df['continent'])\n",
    "\n",
    "    mydf = df.groupby('userid')['orderType'].agg([len, sum, max]).reset_index()\n",
    "    mydf.columns = ['userid', 'order_num', 'pos_num', 'if_pos']\n",
    "    mydf['pos_rate'] = mydf['pos_num'] / mydf['order_num']\n",
    "\n",
    "#     time_gap_last = mydf[['userid']]\n",
    "#     for i in [1, 2, 3]:\n",
    "#         tmp = cal_time_gap(df['orderTime']).groupby(df['userid']).nth(-i).reset_index()\n",
    "#         tmp.columns = ['userid', 'ord_time_gap_last' + str(i)]\n",
    "#         time_gap_last = pd.merge(time_gap_last, tmp, how='left', on='userid')\n",
    "\n",
    "#     ord_type_last = mydf[['userid']]\n",
    "#     for i in [1, 2, 3]:\n",
    "#         tmp = df['orderType'].groupby(df['userid']).nth(-i).reset_index()\n",
    "#         tmp.columns = ['userid', 'ord_type_last' + str(i)]\n",
    "#         ord_type_last = pd.merge(ord_type_last, tmp, how='left', on='userid')\n",
    "\n",
    "#     ord_time_gap_last123 = cal_time_gap(df['orderTime']).groupby(df['userid']).nth([-1, -2, -3]).reset_index()\n",
    "#     ord_time_gap_last123_stat = ord_time_gap_last123.groupby('userid')['orderTime'].agg([np.mean, np.std, min, max, np.ptp]).reset_index()\n",
    "#     ord_time_gap_last123_stat.columns = ['userid', 'ord_time_gap_last123_mean', 'ord_time_gap_last123_std', 'ord_time_gap_last123_min', 'ord_time_gap_last123_max', 'ord_time_gap_last123_ptp']\n",
    "    \n",
    "#     ord_type_last123 = df['orderType'].groupby(df['userid']).nth([-1, -2, -3]).reset_index()\n",
    "#     ord_type_last123_stat = ord_type_last123.groupby('userid')['orderType'].agg([sum, min, max]).reset_index()\n",
    "#     ord_type_last123_stat.columns = ['userid', 'ord_type_last123_sum', 'ord_type_last123_min', 'ord_type_last123_max']\n",
    "\n",
    "#     # 构建时间间隔序列 time_gap\n",
    "#     sub = df.loc[:(len(df) - 2), 'orderTime']  # 构建减数 Serise\n",
    "#     sub.index = sub.index + 1  # 索引加一\n",
    "#     df['time_gap'] = df.loc[1:, 'orderTime'] - sub  # 计算时间间隔\n",
    "#     tmp = df.groupby('userid').nth(0).reset_index()  # 找到用户的第一个 action\n",
    "#     tmp['time_gap'] = 0  # 把所有用户的第一个 action 的 time_gap 赋 0\n",
    "#     df = pd.merge(df, tmp, how='left', on=['userid', 'orderid', 'orderType', 'city', 'country', 'continent']).fillna(1)  # merge 起来后，空值填充 1\n",
    "#     df['time_gap'] = df['time_gap_x'] * df['time_gap_y']  # 两列相乘，将所有用户的第一个 action 的 time_gap 赋 0\n",
    "#     df = df.drop(['time_gap_x', 'time_gap_y'], axis=1)  # 移除多余的列\n",
    "#     df['time_gap'] = df['time_gap'].replace(0, np.nan)  # 0 -> NaN\n",
    "\n",
    "#     ord_time_gap_seq_stat = mydf[['userid']]\n",
    "#     lo = df[df['orderType'] == 1].reset_index().groupby('userid').nth(-1).reset_index()[['userid', 'index']]\n",
    "#     hi = df.reset_index().groupby('userid').nth(-1).reset_index()[['userid', 'index']]\n",
    "#     lo_hi = pd.merge(lo, hi, how='left', on='userid')\n",
    "#     lo_hi.columns = ['userid', 'lo_ind', 'hi_ind']\n",
    "#     index_list = []\n",
    "#     for index, row in lo_hi.iterrows():\n",
    "#         index_list += range(row['lo_ind'], row['hi_ind'] + 1)\n",
    "#     tmp = df.iloc[index_list,:]\n",
    "#     tmp = tmp.groupby('userid')['time_gap'].agg([np.mean, np.std, min, max, np.ptp]).reset_index()\n",
    "#     tmp.columns = ['userid', 'ord_time_gap_seq1_mean', 'ord_time_gap_seq1_std', 'ord_time_gap_seq1_min', 'ord_time_gap_seq1_max', 'ord_time_gap_seq1_ptp']\n",
    "#     ord_time_gap_seq_stat = pd.merge(ord_time_gap_seq_stat, tmp, how='left', on='userid')\n",
    "\n",
    "    continent_num = df.groupby(['userid', 'continent']).size().unstack().reset_index()\n",
    "    continent_num.columns = [i if i == 'userid' else 'continent' + str(i) for i in continent_num.columns]\n",
    "    \n",
    "    country_num = df.groupby(['userid', 'country']).size().unstack().reset_index()\n",
    "    country_num.columns = [i if i == 'userid' else 'country' + str(i) for i in country_num.columns]\n",
    "    \n",
    "    city_num = df.groupby(['userid', 'city']).size().unstack().reset_index()\n",
    "    city_num.columns = [i if i == 'userid' else 'city' + str(i) for i in city_num.columns]\n",
    "    \n",
    "#     mydf = pd.merge(mydf, time_gap_last, how='left', on='userid')\n",
    "#     mydf = pd.merge(mydf, ord_type_last, how='left', on='userid')\n",
    "#     mydf = pd.merge(mydf, ord_time_gap_last123_stat, how='left', on='userid')\n",
    "#     mydf = pd.merge(mydf, ord_type_last123_stat, how='left', on='userid')\n",
    "#     mydf = pd.merge(mydf, ord_time_gap_seq_stat, how='left', on='userid')\n",
    "    mydf = pd.merge(mydf, continent_num, how='left', on='userid')\n",
    "    mydf = pd.merge(mydf, country_num, how='left', on='userid')\n",
    "    mydf = pd.merge(mydf, city_num, how='left', on='userid')\n",
    "\n",
    "    return mydf"
   ]
  },
  {
   "cell_type": "code",
   "execution_count": 11,
   "metadata": {
    "collapsed": true
   },
   "outputs": [],
   "source": [
    "def get_user_comment_feature(df):\n",
    "    df = df.copy()\n",
    "    \n",
    "    mydf = df.groupby('userid').size().reset_index()\n",
    "    mydf.columns = ['userid', 'comment_num']\n",
    "    \n",
    "    rating = df[['userid', 'rating']]\n",
    "    \n",
    "    mydf = pd.merge(mydf, rating, how='left', on='userid')\n",
    "\n",
    "    return mydf"
   ]
  },
  {
   "cell_type": "code",
   "execution_count": null,
   "metadata": {
    "collapsed": true
   },
   "outputs": [],
   "source": [
    "user_profile_feat_tr = get_user_profile_feature(user_profile_tr)"
   ]
  },
  {
   "cell_type": "code",
   "execution_count": null,
   "metadata": {
    "collapsed": true
   },
   "outputs": [],
   "source": [
    "action_feat_tr = get_action_feature(action_tr)"
   ]
  },
  {
   "cell_type": "code",
   "execution_count": null,
   "metadata": {
    "collapsed": true
   },
   "outputs": [],
   "source": [
    "order_history_feat_tr = get_order_history_feature(order_history_tr)"
   ]
  },
  {
   "cell_type": "code",
   "execution_count": null,
   "metadata": {
    "collapsed": true
   },
   "outputs": [],
   "source": [
    "user_comment_feat_tr = get_user_comment_feature(user_comment_tr)"
   ]
  },
  {
   "cell_type": "code",
   "execution_count": null,
   "metadata": {},
   "outputs": [],
   "source": [
    "dataset_tr = pd.merge(user_profile_feat_tr, action_feat_tr, on='userid', how='left')\n",
    "dataset_tr = pd.merge(dataset_tr, order_history_feat_tr, on='userid', how='left')\n",
    "dataset_tr = pd.merge(dataset_tr, user_comment_feat_tr, on='userid', how='left')\n",
    "\n",
    "trainset = pd.merge(order_future_tr, dataset_tr, on='userid', how='left')\n",
    "\n",
    "train_feature = trainset.drop(['orderType'], axis=1)\n",
    "train_label = trainset.orderType.values\n",
    "\n",
    "print train_feature.shape, train_label.shape"
   ]
  },
  {
   "cell_type": "code",
   "execution_count": 12,
   "metadata": {},
   "outputs": [
    {
     "name": "stdout",
     "output_type": "stream",
     "text": [
      "(40307, 493) (40307L,)\n",
      "(10076, 493)\n"
     ]
    }
   ],
   "source": [
    "user_profile_feat = get_user_profile_feature(user_profile)\n",
    "action_feat = get_action_feature(action)\n",
    "order_history_feat = get_order_history_feature(order_history)\n",
    "user_comment_feat = get_user_comment_feature(user_comment)\n",
    "\n",
    "dataset = pd.merge(user_profile_feat, action_feat, on='userid', how='left')\n",
    "dataset = pd.merge(dataset, order_history_feat, on='userid', how='left')\n",
    "dataset = pd.merge(dataset, user_comment_feat, on='userid', how='left')\n",
    "\n",
    "trainset = pd.merge(order_future_tr, dataset, on='userid', how='left')\n",
    "testset = pd.merge(order_future_te, dataset, on='userid', how='left')\n",
    "\n",
    "train_feature = trainset.drop(['orderType'], axis=1)\n",
    "train_label = trainset.orderType.values\n",
    "test_feature = testset\n",
    "test_index = testset.userid.values\n",
    "\n",
    "print train_feature.shape, train_label.shape\n",
    "print test_feature.shape"
   ]
  },
  {
   "cell_type": "code",
   "execution_count": 13,
   "metadata": {
    "collapsed": true
   },
   "outputs": [],
   "source": [
    "config = {\n",
    "    'rounds': 10000,\n",
    "    'folds': 5\n",
    "}\n",
    "\n",
    "params = {\n",
    "    'booster': 'gbtree',\n",
    "    'objective': 'binary:logistic',\n",
    "    'stratified': True,\n",
    "    'scale_pos_weights ': 0,\n",
    "    'max_depth': 6,\n",
    "    'min_child_weight': 1,\n",
    "    'gamma': 0,\n",
    "    'subsample': 0.75,\n",
    "    'colsample_bytree': 0.75,\n",
    "    'lambda': 1,\n",
    "\n",
    "    'eta': 0.02,\n",
    "    'seed': 20,\n",
    "    'silent': 1,\n",
    "    'eval_metric': 'auc'\n",
    "}"
   ]
  },
  {
   "cell_type": "code",
   "execution_count": 14,
   "metadata": {
    "collapsed": true
   },
   "outputs": [],
   "source": [
    "def xgb_cv(train_feature, train_label, params, folds, rounds):\n",
    "    start = time.clock()\n",
    "    print train_feature.columns\n",
    "    params['scale_pos_weights '] = float(len(train_label[train_label == 0])) / len(train_label[train_label == 1])\n",
    "    dtrain = xgb.DMatrix(train_feature, label=train_label)\n",
    "    num_round = rounds\n",
    "    print 'run cv: ' + 'round: ' + str(rounds)\n",
    "    res = xgb.cv(params, dtrain, num_round, nfold=folds, verbose_eval=10, early_stopping_rounds=100)\n",
    "    elapsed = (time.clock() - start)\n",
    "    print 'Time used:', elapsed, 's'\n",
    "    return len(res), res.loc[len(res) - 1, 'test-auc-mean']\n",
    "\n",
    "\n",
    "def xgb_predict(train_feature, train_label, test_feature, rounds, params):\n",
    "    params['scale_pos_weights '] = float(len(train_label[train_label == 0])) / len(train_label[train_label == 1])\n",
    "    dtrain = xgb.DMatrix(train_feature, label=train_label)\n",
    "    dtest = xgb.DMatrix(test_feature, label=np.zeros(test_feature.shape[0]))\n",
    "    watchlist = [(dtrain, 'train')]\n",
    "    num_round = rounds\n",
    "    model = xgb.train(params, dtrain, num_round, watchlist, verbose_eval=30)\n",
    "    predict = model.predict(dtest)\n",
    "    return model, predict\n",
    "\n",
    "\n",
    "def store_result(test_index, pred, name):\n",
    "    result = pd.DataFrame({'userid': test_index, 'orderType': pred})\n",
    "    result.to_csv('../data/output/sub/' + name + '.csv', index=0, columns=['userid', 'orderType'])\n",
    "    return result"
   ]
  },
  {
   "cell_type": "code",
   "execution_count": 15,
   "metadata": {
    "scrolled": true
   },
   "outputs": [
    {
     "name": "stdout",
     "output_type": "stream",
     "text": [
      "Index([u'userid', u'gender', u'province', u'age', u'action_num',\n",
      "       u'act_type_last1', u'act_type_last2', u'act_type_last3',\n",
      "       u'act_type_last4', u'act_type_first1',\n",
      "       ...\n",
      "       u'city210', u'city211', u'city212', u'city213', u'city214', u'city215',\n",
      "       u'city216', u'city217', u'comment_num', u'rating'],\n",
      "      dtype='object', length=493)\n",
      "run cv: round: 10000\n"
     ]
    },
    {
     "name": "stderr",
     "output_type": "stream",
     "text": [
      "Will train until cv error hasn't decreased in 100 rounds.\n",
      "[0]\tcv-test-auc:0.84752+0.00943843921419\tcv-train-auc:0.8542972+0.00644084619906\n",
      "[10]\tcv-test-auc:0.8974102+0.00398040040197\tcv-train-auc:0.9045518+0.00256507554665\n",
      "[20]\tcv-test-auc:0.9022432+0.00535910068575\tcv-train-auc:0.9101908+0.00191160115087\n",
      "[30]\tcv-test-auc:0.9058238+0.00611850747814\tcv-train-auc:0.9139224+0.00268184963039\n",
      "[40]\tcv-test-auc:0.909079+0.00548902384764\tcv-train-auc:0.9176832+0.00158159936773\n",
      "[50]\tcv-test-auc:0.9119432+0.00452251193033\tcv-train-auc:0.9208756+0.00167270972975\n",
      "[60]\tcv-test-auc:0.9157662+0.00447105604528\tcv-train-auc:0.925292+0.00126806719065\n",
      "[70]\tcv-test-auc:0.918672+0.00387675493164\tcv-train-auc:0.928693+0.00129173557666\n",
      "[80]\tcv-test-auc:0.9225278+0.00316208636188\tcv-train-auc:0.933196+0.000982082073963\n",
      "[90]\tcv-test-auc:0.9264412+0.00279111485969\tcv-train-auc:0.9375554+0.000863600509495\n",
      "[100]\tcv-test-auc:0.9291182+0.00296929024516\tcv-train-auc:0.9406486+0.000380363300017\n",
      "[110]\tcv-test-auc:0.9312328+0.00281066905914\tcv-train-auc:0.9432002+0.00034373152314\n",
      "[120]\tcv-test-auc:0.933107+0.00312494371149\tcv-train-auc:0.9456388+0.000340424088454\n",
      "[130]\tcv-test-auc:0.9351012+0.00310573955122\tcv-train-auc:0.9481638+0.000354592385705\n",
      "[140]\tcv-test-auc:0.9371278+0.00297238943613\tcv-train-auc:0.9507448+0.000443755518276\n",
      "[150]\tcv-test-auc:0.938738+0.00288878611185\tcv-train-auc:0.9529006+0.000499718961017\n",
      "[160]\tcv-test-auc:0.9402508+0.00270331510557\tcv-train-auc:0.9549652+0.000695821356384\n",
      "[170]\tcv-test-auc:0.941598+0.00251445843076\tcv-train-auc:0.9567818+0.000684457858454\n",
      "[180]\tcv-test-auc:0.9428446+0.00248001658059\tcv-train-auc:0.9583418+0.000617922131017\n",
      "[190]\tcv-test-auc:0.9439604+0.00251170385197\tcv-train-auc:0.9599562+0.000525978478647\n",
      "[200]\tcv-test-auc:0.944947+0.00240931666661\tcv-train-auc:0.9613418+0.000490279267357\n",
      "[210]\tcv-test-auc:0.9457156+0.00241619077061\tcv-train-auc:0.9625786+0.000354335772961\n",
      "[220]\tcv-test-auc:0.9464802+0.00241014019509\tcv-train-auc:0.9637232+0.000416294799391\n",
      "[230]\tcv-test-auc:0.9471548+0.00220896286976\tcv-train-auc:0.9647858+0.000417000431654\n",
      "[240]\tcv-test-auc:0.9477812+0.00221678852397\tcv-train-auc:0.9657836+0.000450450707625\n",
      "[250]\tcv-test-auc:0.9483774+0.00214694570029\tcv-train-auc:0.9668082+0.00045466576735\n",
      "[260]\tcv-test-auc:0.9489696+0.00216192623371\tcv-train-auc:0.967736+0.000446162750574\n",
      "[270]\tcv-test-auc:0.9493906+0.00205393832429\tcv-train-auc:0.968465+0.000387787054967\n",
      "[280]\tcv-test-auc:0.9498098+0.00206799162474\tcv-train-auc:0.969264+0.000363439678626\n",
      "[290]\tcv-test-auc:0.9501826+0.00204738326651\tcv-train-auc:0.9699678+0.000321403422508\n",
      "[300]\tcv-test-auc:0.9506+0.00191771854035\tcv-train-auc:0.9707324+0.000320067867803\n",
      "[310]\tcv-test-auc:0.9509552+0.00189983824575\tcv-train-auc:0.971501+0.000290043445022\n",
      "[320]\tcv-test-auc:0.9513082+0.00180133432766\tcv-train-auc:0.9722162+0.000356313569767\n",
      "[330]\tcv-test-auc:0.951672+0.0017900692724\tcv-train-auc:0.9728362+0.000350121921622\n",
      "[340]\tcv-test-auc:0.9520416+0.00176731011427\tcv-train-auc:0.973517+0.000425759556557\n",
      "[350]\tcv-test-auc:0.9523212+0.00176751196884\tcv-train-auc:0.9741012+0.000453059113141\n",
      "[360]\tcv-test-auc:0.952589+0.00170216039197\tcv-train-auc:0.974659+0.000455602897269\n",
      "[370]\tcv-test-auc:0.952867+0.00169384733669\tcv-train-auc:0.9752092+0.000367131257182\n",
      "[380]\tcv-test-auc:0.953149+0.00167196770304\tcv-train-auc:0.9757666+0.000327014739729\n",
      "[390]\tcv-test-auc:0.9534022+0.00166061427189\tcv-train-auc:0.9763312+0.000242913482541\n",
      "[400]\tcv-test-auc:0.9536282+0.00168516140473\tcv-train-auc:0.9768166+0.00016840498805\n",
      "[410]\tcv-test-auc:0.9538644+0.00165762162148\tcv-train-auc:0.9773112+0.000238073434049\n",
      "[420]\tcv-test-auc:0.9540946+0.00165773467117\tcv-train-auc:0.9777774+0.000209594465576\n",
      "[430]\tcv-test-auc:0.9542224+0.00167525766376\tcv-train-auc:0.9781526+0.00022083351195\n",
      "[440]\tcv-test-auc:0.954415+0.00168710651709\tcv-train-auc:0.978589+0.000203507248028\n",
      "[450]\tcv-test-auc:0.9545792+0.00164065040761\tcv-train-auc:0.9790414+0.000191422673683\n",
      "[460]\tcv-test-auc:0.954727+0.00157320844137\tcv-train-auc:0.979457+0.000215892565875\n",
      "[470]\tcv-test-auc:0.9548846+0.00159944247787\tcv-train-auc:0.9798584+0.000143979998611\n",
      "[480]\tcv-test-auc:0.955057+0.00159192399316\tcv-train-auc:0.9802756+0.000169311074653\n",
      "[490]\tcv-test-auc:0.9552146+0.00160089145166\tcv-train-auc:0.980676+0.000182384209843\n",
      "[500]\tcv-test-auc:0.9553166+0.00157086620691\tcv-train-auc:0.9810502+0.000156633840533\n",
      "[510]\tcv-test-auc:0.9554552+0.00158137717196\tcv-train-auc:0.9813898+0.00014264837889\n",
      "[520]\tcv-test-auc:0.9555552+0.00156523128003\tcv-train-auc:0.9817224+0.000189821600457\n",
      "[530]\tcv-test-auc:0.9556342+0.00154951249108\tcv-train-auc:0.9820784+0.000245853289585\n",
      "[540]\tcv-test-auc:0.9557108+0.00159386001895\tcv-train-auc:0.9823964+0.000222193249222\n",
      "[550]\tcv-test-auc:0.9557986+0.00158932546698\tcv-train-auc:0.9827412+0.000234993106282\n",
      "[560]\tcv-test-auc:0.9558994+0.00158665529968\tcv-train-auc:0.9830678+0.000209156783299\n",
      "[570]\tcv-test-auc:0.9559676+0.00156105741086\tcv-train-auc:0.9833774+0.000201573410945\n",
      "[580]\tcv-test-auc:0.956083+0.00151554359884\tcv-train-auc:0.9836958+0.000208253115223\n",
      "[590]\tcv-test-auc:0.9561506+0.00152711356487\tcv-train-auc:0.984011+0.000197156790398\n",
      "[600]\tcv-test-auc:0.95622+0.00150079805437\tcv-train-auc:0.9842898+0.000192013957826\n",
      "[610]\tcv-test-auc:0.9563048+0.00151156467278\tcv-train-auc:0.9846072+0.000170659192545\n",
      "[620]\tcv-test-auc:0.9563658+0.00151380413528\tcv-train-auc:0.9849252+0.000169044846121\n",
      "[630]\tcv-test-auc:0.95644+0.00155873730949\tcv-train-auc:0.98521+0.0001194939329\n",
      "[640]\tcv-test-auc:0.9565262+0.00153998109079\tcv-train-auc:0.9854938+0.000117373591578\n",
      "[650]\tcv-test-auc:0.9566014+0.0015527911128\tcv-train-auc:0.98575+0.000113548227639\n",
      "[660]\tcv-test-auc:0.9567102+0.00156186227306\tcv-train-auc:0.9860608+0.000128308066777\n",
      "[670]\tcv-test-auc:0.9567928+0.00153709822718\tcv-train-auc:0.9863092+0.000124943827379\n",
      "[680]\tcv-test-auc:0.9568622+0.00152461961158\tcv-train-auc:0.9865822+0.000162326091556\n",
      "[690]\tcv-test-auc:0.9569084+0.00155874264714\tcv-train-auc:0.9868224+0.000157220354916\n",
      "[700]\tcv-test-auc:0.9569508+0.00154706268781\tcv-train-auc:0.9870682+0.000147812584038\n",
      "[710]\tcv-test-auc:0.9570236+0.00153828808745\tcv-train-auc:0.9873652+0.000140989928718\n",
      "[720]\tcv-test-auc:0.9570926+0.00153274911189\tcv-train-auc:0.9875862+0.000154789405322\n",
      "[730]\tcv-test-auc:0.9571358+0.00153059692931\tcv-train-auc:0.9878312+0.000138339293044\n",
      "[740]\tcv-test-auc:0.9571856+0.00148305813777\tcv-train-auc:0.988066+0.000159034587433\n",
      "[750]\tcv-test-auc:0.9572568+0.0015050766625\tcv-train-auc:0.988277+0.000153775160543\n",
      "[760]\tcv-test-auc:0.9573112+0.00149371354684\tcv-train-auc:0.9884894+0.000154286227512\n",
      "[770]\tcv-test-auc:0.9573648+0.00148069475585\tcv-train-auc:0.9886982+0.000151149462454\n",
      "[780]\tcv-test-auc:0.9574122+0.00148739926045\tcv-train-auc:0.9889242+0.000141284677159\n",
      "[790]\tcv-test-auc:0.9574598+0.00147096341219\tcv-train-auc:0.989136+0.000124246529127\n",
      "[800]\tcv-test-auc:0.9574946+0.00149402096371\tcv-train-auc:0.9893462+0.000122225038351\n",
      "[810]\tcv-test-auc:0.9575464+0.00151184901363\tcv-train-auc:0.9895366+0.000130636288986\n",
      "[820]\tcv-test-auc:0.9575706+0.0015305487382\tcv-train-auc:0.9897406+0.000134096383247\n",
      "[830]\tcv-test-auc:0.9575984+0.00152575602244\tcv-train-auc:0.9899198+0.000150667050147\n",
      "[840]\tcv-test-auc:0.957618+0.00151900691243\tcv-train-auc:0.9901196+0.000160499968847\n",
      "[850]\tcv-test-auc:0.957627+0.00151815269324\tcv-train-auc:0.9903038+0.000169934575646\n",
      "[860]\tcv-test-auc:0.957662+0.0015139326273\tcv-train-auc:0.9904826+0.000160612079247\n",
      "[870]\tcv-test-auc:0.9576622+0.00152250509359\tcv-train-auc:0.9906454+0.00014823305974\n",
      "[880]\tcv-test-auc:0.9576728+0.00150724455879\tcv-train-auc:0.990812+0.000143995833273\n",
      "[890]\tcv-test-auc:0.957713+0.00150803434974\tcv-train-auc:0.9909908+0.000141948441344\n",
      "[900]\tcv-test-auc:0.9577516+0.00150297699251\tcv-train-auc:0.9911676+0.000134166463768\n",
      "[910]\tcv-test-auc:0.9577728+0.00151065090607\tcv-train-auc:0.9913376+0.000119305657871\n",
      "[920]\tcv-test-auc:0.9577912+0.00151691626664\tcv-train-auc:0.9914992+0.000127554537356\n",
      "[930]\tcv-test-auc:0.9578082+0.00151101256117\tcv-train-auc:0.9916562+0.000130168198881\n",
      "[940]\tcv-test-auc:0.957875+0.00147813368814\tcv-train-auc:0.9918286+0.000133725988499\n",
      "[950]\tcv-test-auc:0.957902+0.00143284151252\tcv-train-auc:0.9919974+0.000137144595227\n"
     ]
    },
    {
     "name": "stderr",
     "output_type": "stream",
     "text": [
      "[960]\tcv-test-auc:0.9579118+0.00144739012018\tcv-train-auc:0.9921462+0.000137421104638\n",
      "[970]\tcv-test-auc:0.9579522+0.00143768221802\tcv-train-auc:0.992319+0.000127795148578\n",
      "[980]\tcv-test-auc:0.957967+0.00141948765405\tcv-train-auc:0.9924556+0.000107373367275\n",
      "[990]\tcv-test-auc:0.9580234+0.00142161437809\tcv-train-auc:0.9926152+0.000108567766856\n",
      "[1000]\tcv-test-auc:0.958048+0.00142028292956\tcv-train-auc:0.9927556+0.000107964068097\n",
      "[1010]\tcv-test-auc:0.9580484+0.00141261411574\tcv-train-auc:0.9928972+0.000110340201196\n",
      "[1020]\tcv-test-auc:0.9580764+0.00141485357546\tcv-train-auc:0.9930348+0.000115829875248\n",
      "[1030]\tcv-test-auc:0.9581132+0.00141964381448\tcv-train-auc:0.9931754+0.000118761273149\n",
      "[1040]\tcv-test-auc:0.9581652+0.00142925958454\tcv-train-auc:0.9933166+0.000114967125736\n",
      "[1050]\tcv-test-auc:0.9581762+0.00141974144125\tcv-train-auc:0.9934504+0.000117066818527\n",
      "[1060]\tcv-test-auc:0.9581888+0.00139504485949\tcv-train-auc:0.993564+0.000115292671059\n",
      "[1070]\tcv-test-auc:0.958202+0.00139461722347\tcv-train-auc:0.9936604+0.000108498110583\n",
      "[1080]\tcv-test-auc:0.95822+0.00136638369428\tcv-train-auc:0.9937812+0.000105609469272\n",
      "[1090]\tcv-test-auc:0.9582702+0.00134025809455\tcv-train-auc:0.9939302+0.000104673587882\n",
      "[1100]\tcv-test-auc:0.9582944+0.00133824117408\tcv-train-auc:0.994053+0.000117682624036\n",
      "[1110]\tcv-test-auc:0.9582944+0.00131271041742\tcv-train-auc:0.9941854+0.000110086511435\n",
      "[1120]\tcv-test-auc:0.9583026+0.00132157869232\tcv-train-auc:0.9942912+0.000120791390422\n",
      "[1130]\tcv-test-auc:0.9583112+0.00130974461633\tcv-train-auc:0.9944144+0.000125880260565\n",
      "[1140]\tcv-test-auc:0.9583282+0.00130331598624\tcv-train-auc:0.9945344+0.000149017582855\n",
      "[1150]\tcv-test-auc:0.9583152+0.0013192894148\tcv-train-auc:0.9946278+0.000154365021945\n",
      "[1160]\tcv-test-auc:0.9583238+0.00131536115193\tcv-train-auc:0.9947322+0.000153207571614\n",
      "[1170]\tcv-test-auc:0.9583022+0.0013195064835\tcv-train-auc:0.9948336+0.000156989935983\n",
      "[1180]\tcv-test-auc:0.9582874+0.00131068754476\tcv-train-auc:0.9949426+0.000146305980739\n",
      "[1190]\tcv-test-auc:0.9583002+0.00131977019212\tcv-train-auc:0.995055+0.000148352283434\n",
      "[1200]\tcv-test-auc:0.9583346+0.00132509948306\tcv-train-auc:0.9951592+0.000153358925401\n",
      "[1210]\tcv-test-auc:0.9583512+0.00133291326049\tcv-train-auc:0.9952594+0.000157084181253\n",
      "[1220]\tcv-test-auc:0.9583694+0.00130698762045\tcv-train-auc:0.9953454+0.000155776249794\n",
      "[1230]\tcv-test-auc:0.9583752+0.00130501898837\tcv-train-auc:0.9954412+0.000136342803257\n",
      "[1240]\tcv-test-auc:0.9583826+0.00131463296779\tcv-train-auc:0.995547+0.000123830529354\n",
      "[1250]\tcv-test-auc:0.9583756+0.00131597972629\tcv-train-auc:0.995632+0.000110625494349\n",
      "[1260]\tcv-test-auc:0.9583996+0.00134501637165\tcv-train-auc:0.9957132+0.000107434445128\n",
      "[1270]\tcv-test-auc:0.9584306+0.00132053377087\tcv-train-auc:0.9958086+0.000109625909346\n",
      "[1280]\tcv-test-auc:0.9584038+0.00133654874958\tcv-train-auc:0.9958874+0.000107730404251\n",
      "[1290]\tcv-test-auc:0.9584088+0.00135670076288\tcv-train-auc:0.9959694+0.0001066613332\n",
      "[1300]\tcv-test-auc:0.9584158+0.00134681452324\tcv-train-auc:0.996052+0.000111742561274\n",
      "[1310]\tcv-test-auc:0.9584408+0.00135074044879\tcv-train-auc:0.9961326+0.000106076576114\n",
      "[1320]\tcv-test-auc:0.958436+0.00135595383402\tcv-train-auc:0.9962142+0.000101154139807\n",
      "[1330]\tcv-test-auc:0.9584356+0.00136125157117\tcv-train-auc:0.9962922+0.00010409495665\n",
      "[1340]\tcv-test-auc:0.9584266+0.00135584108213\tcv-train-auc:0.9963702+0.000108816175268\n",
      "[1350]\tcv-test-auc:0.958431+0.0013614531942\tcv-train-auc:0.9964388+8.88378297799e-05\n",
      "[1360]\tcv-test-auc:0.958462+0.0013524043774\tcv-train-auc:0.9965126+7.9946482099e-05\n",
      "[1370]\tcv-test-auc:0.9584582+0.00135899689477\tcv-train-auc:0.9965878+7.16027932416e-05\n",
      "[1380]\tcv-test-auc:0.9584436+0.00133905154494\tcv-train-auc:0.9966484+7.5552895378e-05\n",
      "[1390]\tcv-test-auc:0.9584426+0.00134268858638\tcv-train-auc:0.9967208+7.58878119331e-05\n",
      "[1400]\tcv-test-auc:0.9584808+0.00133415477363\tcv-train-auc:0.9967856+6.96580217922e-05\n",
      "[1410]\tcv-test-auc:0.9585048+0.00133443881838\tcv-train-auc:0.9968564+7.42444610728e-05\n",
      "[1420]\tcv-test-auc:0.9585068+0.00135988976024\tcv-train-auc:0.996927+7.7557720441e-05\n",
      "[1430]\tcv-test-auc:0.9585088+0.00135512322687\tcv-train-auc:0.9969952+7.84025509789e-05\n",
      "[1440]\tcv-test-auc:0.958508+0.00135478337752\tcv-train-auc:0.997057+7.07106781187e-05\n",
      "[1450]\tcv-test-auc:0.9585084+0.00133738888884\tcv-train-auc:0.9971226+7.68832881711e-05\n",
      "[1460]\tcv-test-auc:0.9585124+0.00133321515143\tcv-train-auc:0.9971754+7.75695816671e-05\n",
      "[1470]\tcv-test-auc:0.9585074+0.00133918178004\tcv-train-auc:0.9972386+7.61172779334e-05\n",
      "[1480]\tcv-test-auc:0.9585062+0.0013456992829\tcv-train-auc:0.9973054+7.8075860546e-05\n",
      "[1490]\tcv-test-auc:0.958501+0.00135116675507\tcv-train-auc:0.9973584+8.27951689412e-05\n",
      "[1500]\tcv-test-auc:0.958481+0.00135281646944\tcv-train-auc:0.9974156+7.80835450015e-05\n",
      "[1510]\tcv-test-auc:0.958498+0.0013410267708\tcv-train-auc:0.9974656+7.8316281832e-05\n",
      "[1520]\tcv-test-auc:0.9584838+0.00134463443359\tcv-train-auc:0.9975196+7.95728596948e-05\n",
      "[1530]\tcv-test-auc:0.9584856+0.00134679138696\tcv-train-auc:0.9975764+7.84132641841e-05\n",
      "[1540]\tcv-test-auc:0.9585084+0.00133977857872\tcv-train-auc:0.9976324+8.59316007066e-05\n",
      "[1550]\tcv-test-auc:0.9585204+0.00134875996382\tcv-train-auc:0.997687+9.25937362892e-05\n",
      "[1560]\tcv-test-auc:0.9585328+0.00138114523494\tcv-train-auc:0.9977326+9.89779773485e-05\n",
      "[1570]\tcv-test-auc:0.9585236+0.00141121346365\tcv-train-auc:0.9977888+9.80191817962e-05\n",
      "[1580]\tcv-test-auc:0.9584962+0.00140019332951\tcv-train-auc:0.9978352+9.711930807e-05\n",
      "[1590]\tcv-test-auc:0.9585074+0.00139042620804\tcv-train-auc:0.9978756+9.68764161187e-05\n",
      "[1600]\tcv-test-auc:0.9585404+0.00139604392481\tcv-train-auc:0.9979228+9.53549159718e-05\n",
      "[1610]\tcv-test-auc:0.958568+0.0013842590798\tcv-train-auc:0.9979666+9.41182235276e-05\n",
      "[1620]\tcv-test-auc:0.9585878+0.00138843010627\tcv-train-auc:0.9980198+8.9215245334e-05\n",
      "[1630]\tcv-test-auc:0.9585776+0.00138701890398\tcv-train-auc:0.9980646+8.84750812376e-05\n",
      "[1640]\tcv-test-auc:0.9585568+0.00138113669128\tcv-train-auc:0.9981056+8.71587058187e-05\n",
      "[1650]\tcv-test-auc:0.958561+0.00137374772065\tcv-train-auc:0.9981496+8.15048464817e-05\n",
      "[1660]\tcv-test-auc:0.9585546+0.0013864639339\tcv-train-auc:0.9981906+8.32576723191e-05\n",
      "[1670]\tcv-test-auc:0.9585402+0.00139976875233\tcv-train-auc:0.9982318+7.87283938614e-05\n",
      "[1680]\tcv-test-auc:0.9585384+0.00139442441172\tcv-train-auc:0.9982716+7.99589894884e-05\n",
      "[1690]\tcv-test-auc:0.9585398+0.0013837159246\tcv-train-auc:0.9983098+7.69217784506e-05\n",
      "[1700]\tcv-test-auc:0.9585368+0.00139847465476\tcv-train-auc:0.998348+7.41862520957e-05\n",
      "[1710]\tcv-test-auc:0.958534+0.00143353423398\tcv-train-auc:0.9983836+7.43037011191e-05\n",
      "[1720]\tcv-test-auc:0.958531+0.00144064471678\tcv-train-auc:0.9984226+7.02299081589e-05\n"
     ]
    },
    {
     "name": "stdout",
     "output_type": "stream",
     "text": [
      "Time used: 756.944275614 s\n"
     ]
    },
    {
     "name": "stderr",
     "output_type": "stream",
     "text": [
      "Stopping. Best iteration:\n",
      "[1621] cv-mean:0.9585918\tcv-std:0.00139046559109\n"
     ]
    }
   ],
   "source": [
    "iterations, best_score = xgb_cv(train_feature, train_label, params, config['folds'], config['rounds'])"
   ]
  },
  {
   "cell_type": "code",
   "execution_count": null,
   "metadata": {
    "collapsed": true
   },
   "outputs": [],
   "source": [
    "import winsound\n",
    "winsound.Beep(600,1000)"
   ]
  },
  {
   "cell_type": "code",
   "execution_count": 16,
   "metadata": {
    "scrolled": true
   },
   "outputs": [
    {
     "name": "stdout",
     "output_type": "stream",
     "text": [
      "[0]\ttrain-auc:0.850628\n",
      "[30]\ttrain-auc:0.911609\n",
      "[60]\ttrain-auc:0.924338\n",
      "[90]\ttrain-auc:0.936461\n",
      "[120]\ttrain-auc:0.943546\n",
      "[150]\ttrain-auc:0.950959\n",
      "[180]\ttrain-auc:0.956133\n",
      "[210]\ttrain-auc:0.960424\n",
      "[240]\ttrain-auc:0.963603\n",
      "[270]\ttrain-auc:0.966315\n",
      "[300]\ttrain-auc:0.968712\n",
      "[330]\ttrain-auc:0.970702\n",
      "[360]\ttrain-auc:0.972358\n",
      "[390]\ttrain-auc:0.974124\n",
      "[420]\ttrain-auc:0.975660\n",
      "[450]\ttrain-auc:0.977040\n",
      "[480]\ttrain-auc:0.978161\n",
      "[510]\ttrain-auc:0.979195\n",
      "[540]\ttrain-auc:0.980336\n",
      "[570]\ttrain-auc:0.981252\n",
      "[600]\ttrain-auc:0.982212\n",
      "[630]\ttrain-auc:0.983141\n",
      "[660]\ttrain-auc:0.983897\n",
      "[690]\ttrain-auc:0.984555\n",
      "[720]\ttrain-auc:0.985341\n",
      "[750]\ttrain-auc:0.985956\n",
      "[780]\ttrain-auc:0.986669\n",
      "[810]\ttrain-auc:0.987242\n",
      "[840]\ttrain-auc:0.987848\n",
      "[870]\ttrain-auc:0.988446\n",
      "[900]\ttrain-auc:0.988910\n",
      "[930]\ttrain-auc:0.989474\n",
      "[960]\ttrain-auc:0.989948\n",
      "[990]\ttrain-auc:0.990417\n",
      "[1020]\ttrain-auc:0.990861\n",
      "[1050]\ttrain-auc:0.991302\n",
      "[1080]\ttrain-auc:0.991672\n",
      "[1110]\ttrain-auc:0.992072\n",
      "[1140]\ttrain-auc:0.992454\n",
      "[1170]\ttrain-auc:0.992821\n",
      "[1200]\ttrain-auc:0.993190\n",
      "[1230]\ttrain-auc:0.993543\n",
      "[1260]\ttrain-auc:0.993885\n",
      "[1290]\ttrain-auc:0.994191\n",
      "[1320]\ttrain-auc:0.994490\n",
      "[1350]\ttrain-auc:0.994744\n",
      "[1380]\ttrain-auc:0.994989\n",
      "[1410]\ttrain-auc:0.995255\n",
      "[1440]\ttrain-auc:0.995570\n",
      "[1470]\ttrain-auc:0.995811\n",
      "[1500]\ttrain-auc:0.996016\n",
      "[1530]\ttrain-auc:0.996219\n",
      "[1560]\ttrain-auc:0.996397\n",
      "[1590]\ttrain-auc:0.996576\n",
      "[1620]\ttrain-auc:0.996777\n",
      "[1621]\ttrain-auc:0.996783\n"
     ]
    }
   ],
   "source": [
    "model, pred = xgb_predict(train_feature, train_label, test_feature, iterations, params)"
   ]
  },
  {
   "cell_type": "code",
   "execution_count": 17,
   "metadata": {},
   "outputs": [],
   "source": [
    "importance = pd.DataFrame(model.get_fscore().items(), columns=['feature','importance']).sort_values('importance', ascending=False)\n",
    "importance.to_csv('../data/output/feat_imp/importance-20180114-%f(r%d).csv' % (best_score, iterations), index = False)"
   ]
  },
  {
   "cell_type": "code",
   "execution_count": 18,
   "metadata": {
    "collapsed": true
   },
   "outputs": [],
   "source": [
    "res = store_result(test_index, pred, '20180114-xgb-%f(r%d)' % (best_score, iterations))"
   ]
  }
 ],
 "metadata": {
  "kernelspec": {
   "display_name": "Python [default]",
   "language": "python",
   "name": "python2"
  },
  "language_info": {
   "codemirror_mode": {
    "name": "ipython",
    "version": 2
   },
   "file_extension": ".py",
   "mimetype": "text/x-python",
   "name": "python",
   "nbconvert_exporter": "python",
   "pygments_lexer": "ipython2",
   "version": "2.7.13"
  }
 },
 "nbformat": 4,
 "nbformat_minor": 2
}
